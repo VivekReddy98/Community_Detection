{
 "cells": [
  {
   "cell_type": "code",
   "execution_count": null,
   "metadata": {
    "collapsed": true
   },
   "outputs": [],
   "source": [
    "import sys,os\n",
    "from py2neo import Graph, Node, Relationship, Database\n",
    "from py2neo.matching import NodeMatcher\n",
    "from py2neo.database import Schema\n",
    "from Query_Parsing.CypherParser import Parse, ID_generator"
   ]
  },
  {
   "cell_type": "code",
   "execution_count": null,
   "metadata": {
    "collapsed": true
   },
   "outputs": [],
   "source": [
    "parent_dir = os.environ['GDMPATH']\n",
    "graph = Graph(\"bolt:localhost:7474/databases/gdm.db\", auth=(\"neo4j\", \"\"))"
   ]
  },
  {
   "cell_type": "code",
   "execution_count": null,
   "metadata": {
    "collapsed": true
   },
   "outputs": [],
   "source": [
    "category = ['amazon']  #'dblp', 'youtube']\n",
    "variant = ['small',] #['medium', 'large'] #Omitted original for now\n",
    "di = {'amazon':'1', 'dblp':'2', 'youtube':'3', 'small':'4', 'medium':'5', 'large':'6'}\n",
    "\n",
    "with open('Query_Parsing/query.json') as json_file:\n",
    "    json_data = json.load(json_file)\n",
    "\n",
    "with open('Regex_dict.json') as json_file:\n",
    "    Regex_dict = json.load(json_file) "
   ]
  },
  {
   "cell_type": "code",
   "execution_count": null,
   "metadata": {},
   "outputs": [],
   "source": [
    "graph.delete_all()\n",
    "schema = Schema(graph)\n",
    "findNode = NodeMatcher(graph)\n",
    "\n",
    "for cat in category:\n",
    "    for var in variant:\n",
    "        filename = \"datasets/{}/{}.graph.{}\".format(cat, cat, var)\n",
    "        Id = ID_generators(cat,var,di)\n",
    "        tx = graph.begin()\n",
    "        with open(parent_dir+filename) as fp:\n",
    "            elements = fp.readline().strip().split(\" \")\n",
    "            for i in range(0, int(elements[0])):\n",
    "                tx.create(Node(ID=3000, Id.label_gen(), name=Id.name_gen(i),uid=Id.uniq_id(i),cluster=Id.gen_cluster_id(0)))\n",
    "            tx.commit()\n",
    "        schema.create_index(ID.label_gen(), 'uid')\n",
    "        print(filename)    "
   ]
  },
  {
   "cell_type": "code",
   "execution_count": null,
   "metadata": {
    "collapsed": true
   },
   "outputs": [],
   "source": [
    "for cat in category:\n",
    "    for var in variant:\n",
    "        filename = \"datasets/{}/{}.graph.{}\".format(cat, cat, var)\n",
    "        print(filename)\n",
    "        ID = ID_generators(cat,var,di)\n",
    "        tx = graph.begin()\n",
    "        with open(parent_dir+filename) as fp:\n",
    "            elements = fp.readline().strip().split(\" \")\n",
    "            for j in range(0, int(elements[1])):\n",
    "                nodes = fp.readline().strip().split(\" \")\n",
    "                Node1 = findNode.match(ID.label_gen(), uid=ID.uniq_id(int(nodes[0]))).first()\n",
    "                Node2 = findNode.match(ID.label_gen(), uid=ID.uniq_id(int(nodes[1]))).first()\n",
    "                tx.create(Relationship(Node1, \"KNOWS\", Node2))\n",
    "                tx.create(Relationship(Node2, \"KNOWS\", Node1))\n",
    "                print(\"fuck you\")\n",
    "            tx.commit()\n",
    "        print(filename)"
   ]
  },
  {
   "cell_type": "code",
   "execution_count": null,
   "metadata": {},
   "outputs": [],
   "source": [
    "import time\n",
    "start = time.time()\n",
    "for cat in category:\n",
    "    for var in variant:\n",
    "        filename = \"datasets/{}/{}.graph.{}\".format(cat, cat, var)\n",
    "        ID = ID_generators(cat,var,di)\n",
    "#         tx = graph.begin()\n",
    "        with open(parent_dir+filename) as fp:\n",
    "            elements = fp.readline().strip().split(\" \")\n",
    "            for j in range(0, int(elements[1])):\n",
    "                nodes = fp.readline().strip().split(\" \")\n",
    "                Node1 = findNode.match(ID.label_gen(), uid=ID.uniq_id(int(nodes[0]))).first()\n",
    "                Node2 = findNode.match(ID.label_gen(), uid=ID.uniq_id(int(nodes[1]))).first()\n",
    "end = time.time()\n",
    "print((end-start)/60)"
   ]
  },
  {
   "cell_type": "code",
   "execution_count": 1,
   "metadata": {},
   "outputs": [],
   "source": [
    "import re, json\n",
    "\n",
    "category = ['amazon']  #'dblp', 'youtube']\n",
    "variant = ['small',] #['medium', 'large'] #Omitted original for now\n",
    "di = {'amazon':'1', 'dblp':'2', 'youtube':'3', 'small':'4', 'medium':'5', 'large':'6'}\n",
    "   \n"
   ]
  },
  {
   "cell_type": "code",
   "execution_count": 11,
   "metadata": {},
   "outputs": [
    {
     "name": "stdout",
     "output_type": "stream",
     "text": [
      "CREATE (14000000:amazon_small {name=amazon_small_0, cluster=|0|})\n"
     ]
    }
   ],
   "source": [
    "\n",
    " \n",
    "\n",
    "\n",
    "parse = Parse(json_data, gen_dict())\n",
    "Id = ID_generator('amazon', 'small', di)\n",
    "print(parse.create(what='node', uid=Id.uniq_id(0), label=Id.label_gen(), name=Id.name_gen(0), cluster=Id.gen_cluster_id(0)))"
   ]
  },
  {
   "cell_type": "code",
   "execution_count": 12,
   "metadata": {},
   "outputs": [
    {
     "name": "stdout",
     "output_type": "stream",
     "text": [
      "CALL algo.pageRank.stream('amazon_small', 'KNOWS', {dampingFactor:0.85, iterations:20}) Yield nodeId, score RETURN algo.asNode(nodeId).name AS node,score ORDER BY score DESC;\n"
     ]
    }
   ],
   "source": [
    "print(parse.page_rank(what='query', label=Id.label_gen(), relation='KNOWS', PR_itr='20', PR_df = '0.85'))"
   ]
  },
  {
   "cell_type": "code",
   "execution_count": 9,
   "metadata": {
    "collapsed": true
   },
   "outputs": [],
   "source": [
    "\n",
    "\n",
    "\n"
   ]
  },
  {
   "cell_type": "code",
   "execution_count": null,
   "metadata": {
    "collapsed": true
   },
   "outputs": [],
   "source": []
  }
 ],
 "metadata": {
  "kernelspec": {
   "display_name": "GDM_P2",
   "language": "python",
   "name": "gdm_p2"
  },
  "language_info": {
   "codemirror_mode": {
    "name": "ipython",
    "version": 3
   },
   "file_extension": ".py",
   "mimetype": "text/x-python",
   "name": "python",
   "nbconvert_exporter": "python",
   "pygments_lexer": "ipython3",
   "version": "3.7.3"
  }
 },
 "nbformat": 4,
 "nbformat_minor": 2
}
