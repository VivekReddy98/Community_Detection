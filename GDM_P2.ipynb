{
 "cells": [
  {
   "cell_type": "code",
   "execution_count": 1,
   "metadata": {
    "collapsed": true
   },
   "outputs": [],
   "source": [
    "import sys,os\n",
    "from py2neo import Graph, Node, Relationship, Database\n",
    "from py2neo.matching import NodeMatcher\n",
    "from py2neo.database import Schema"
   ]
  },
  {
   "cell_type": "code",
   "execution_count": 2,
   "metadata": {
    "collapsed": true
   },
   "outputs": [],
   "source": [
    "category = ['amazon', 'dblp', 'youtube']\n",
    "variant = ['small', 'medium', 'large'] #Omitted original for now\n",
    "di = {'amazon':'1', 'dblp':'2', 'youtube':'3', 'small':'4', 'medium':'5', 'large':'6'}\n",
    "\n",
    "class ID_generators(object):\n",
    "    def __init__(self, category, variant, dict_identify):\n",
    "        self.cat = category\n",
    "        self.var = variant\n",
    "        self.di = dict_identify\n",
    "        \n",
    "    def label_gen(self):\n",
    "        return self.cat+\"_\"+self.var\n",
    "    \n",
    "    def name_gen(self,i):\n",
    "        return self.cat+\"_\"+self.var+\"_\"+str(i)\n",
    "    \n",
    "    def uniq_id(self, i):\n",
    "        index = str(i)\n",
    "        index = ''.join([\"0\" for i in range(0,6-len(index))]) + index\n",
    "        return int(di[self.cat]+di[self.var]+index)\n",
    "   \n",
    "# ID = ID_generators('amazon', 'small', di)\n",
    "# print(ID.label_gen())\n",
    "# print(ID.name_gen(325))\n",
    "# print(ID.uniq_id(325))"
   ]
  },
  {
   "cell_type": "code",
   "execution_count": 4,
   "metadata": {
    "collapsed": true
   },
   "outputs": [],
   "source": [
    "parent_dir = os.environ['GDMPATH']\n",
    "graph = Graph(\"bolt:localhost:7474\", auth=(\"neo4j\", \"vivek1234\"))\n",
    "# graph.delete_all()\n",
    "schema = Schema(graph)\n",
    "findNode = NodeMatcher(graph)"
   ]
  },
  {
   "cell_type": "code",
   "execution_count": 5,
   "metadata": {},
   "outputs": [
    {
     "name": "stdout",
     "output_type": "stream",
     "text": [
      "datasets/amazon/amazon.graph.small\n",
      "datasets/amazon/amazon.graph.medium\n",
      "datasets/amazon/amazon.graph.large\n",
      "datasets/dblp/dblp.graph.small\n",
      "datasets/dblp/dblp.graph.medium\n",
      "datasets/dblp/dblp.graph.large\n",
      "datasets/youtube/youtube.graph.small\n",
      "datasets/youtube/youtube.graph.medium\n",
      "datasets/youtube/youtube.graph.large\n"
     ]
    }
   ],
   "source": [
    "for cat in category:\n",
    "    for var in variant:\n",
    "        filename = \"datasets/{}/{}.graph.{}\".format(cat, cat, var)\n",
    "        ID = ID_generators(cat,var,di)\n",
    "        tx = graph.begin()\n",
    "        with open(parent_dir+filename) as fp:\n",
    "            elements = fp.readline().strip().split(\" \")\n",
    "            for i in range(0, int(elements[0])):\n",
    "                tx.create(Node(ID.label_gen(), name=ID.name_gen(i),uid=ID.uniq_id(i),cluster=0))\n",
    "            tx.commit()\n",
    "        schema.create_index(ID.label_gen(), 'uid')\n",
    "        print(filename)    \n",
    "        "
   ]
  },
  {
   "cell_type": "code",
   "execution_count": 9,
   "metadata": {},
   "outputs": [
    {
     "name": "stdout",
     "output_type": "stream",
     "text": [
      "(_693284:dblp_large {cluster: 0, name: 'dblp_large_45355', uid: 26045355})\n"
     ]
    }
   ],
   "source": [
    "ID = ID_generators('dblp',\"large\",di)\n",
    "print(findNode.match(ID.label_gen(), uid=ID.uniq_id(45355)).first())"
   ]
  },
  {
   "cell_type": "code",
   "execution_count": 10,
   "metadata": {},
   "outputs": [
    {
     "name": "stdout",
     "output_type": "stream",
     "text": [
      "datasets/amazon/amazon.graph.small\n",
      "datasets/amazon/amazon.graph.medium\n",
      "datasets/amazon/amazon.graph.large\n",
      "datasets/dblp/dblp.graph.small\n",
      "datasets/dblp/dblp.graph.medium\n",
      "datasets/dblp/dblp.graph.large\n",
      "datasets/youtube/youtube.graph.small\n",
      "datasets/youtube/youtube.graph.medium\n",
      "datasets/youtube/youtube.graph.large\n"
     ]
    }
   ],
   "source": [
    "for cat in category:\n",
    "    for var in variant:\n",
    "        filename = \"datasets/{}/{}.graph.{}\".format(cat, cat, var)\n",
    "        ID = ID_generators(cat,var,di)\n",
    "        tx = graph.begin()\n",
    "        with open(parent_dir+filename) as fp:\n",
    "            elements = fp.readline().strip().split(\" \")\n",
    "            for j in range(0, int(elements[1])):\n",
    "                nodes = fp.readline().strip().split(\" \")\n",
    "                Node1 = findNode.match(ID.label_gen(), uid=ID.uniq_id(int(nodes[0]))).first()\n",
    "                Node2 = findNode.match(ID.label_gen(), uid=ID.uniq_id(int(nodes[1]))).first()\n",
    "                tx.create(Relationship(Node1, \"KNOWS\", Node2))\n",
    "                tx.create(Relationship(Node2, \"KNOWS\", Node1))\n",
    "            tx.commit()\n",
    "        print(filename)"
   ]
  },
  {
   "cell_type": "code",
   "execution_count": null,
   "metadata": {
    "collapsed": true
   },
   "outputs": [],
   "source": [
    "graph."
   ]
  }
 ],
 "metadata": {
  "kernelspec": {
   "display_name": "GDM_P2",
   "language": "python",
   "name": "gdm_p2"
  },
  "language_info": {
   "codemirror_mode": {
    "name": "ipython",
    "version": 3
   },
   "file_extension": ".py",
   "mimetype": "text/x-python",
   "name": "python",
   "nbconvert_exporter": "python",
   "pygments_lexer": "ipython3",
   "version": "3.7.3"
  }
 },
 "nbformat": 4,
 "nbformat_minor": 2
}
