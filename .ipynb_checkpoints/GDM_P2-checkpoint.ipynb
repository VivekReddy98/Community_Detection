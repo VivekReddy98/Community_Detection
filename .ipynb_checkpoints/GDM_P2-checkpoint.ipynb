{
 "cells": [
  {
   "cell_type": "code",
   "execution_count": 1,
   "metadata": {
    "collapsed": true
   },
   "outputs": [],
   "source": [
    "import sys,os, json\n",
    "from py2neo import Graph, Node, Relationship, Database\n",
    "from py2neo.matching import NodeMatcher\n",
    "from py2neo.database import Schema\n",
    "from Utils.CypherParser import Parse, ID_generator\n",
    "from Utils.GraphGenerator import GraphGenerator"
   ]
  },
  {
   "cell_type": "code",
   "execution_count": 2,
   "metadata": {
    "collapsed": true
   },
   "outputs": [],
   "source": [
    "parent_dir = os.environ['GDMPATH']\n",
    "graph = Graph(\"bolt:localhost:7474/databases/gdm.db\", auth=(\"neo4j\", \"\"))"
   ]
  },
  {
   "cell_type": "code",
   "execution_count": 3,
   "metadata": {
    "collapsed": true
   },
   "outputs": [],
   "source": [
    "category = ['amazon']  #'dblp', 'youtube']\n",
    "variant = ['small',] #['medium', 'large'] \n",
    "di = {'amazon':'1', 'dblp':'2', 'youtube':'3', 'small':'4', 'medium':'5', 'large':'6'}\n",
    "\n",
    "with open('query.json') as json_file:\n",
    "    json_dict = json.load(json_file)\n",
    "\n",
    "with open('Regex_dict.json') as json_file:\n",
    "    regex_dict = json.load(json_file) "
   ]
  },
  {
   "cell_type": "code",
   "execution_count": null,
   "metadata": {
    "collapsed": true
   },
   "outputs": [],
   "source": [
    "gdm."
   ]
  }
 ],
 "metadata": {
  "kernelspec": {
   "display_name": "GDM_P2",
   "language": "python",
   "name": "gdm_p2"
  },
  "language_info": {
   "codemirror_mode": {
    "name": "ipython",
    "version": 3
   },
   "file_extension": ".py",
   "mimetype": "text/x-python",
   "name": "python",
   "nbconvert_exporter": "python",
   "pygments_lexer": "ipython3",
   "version": "3.7.3"
  }
 },
 "nbformat": 4,
 "nbformat_minor": 2
}
